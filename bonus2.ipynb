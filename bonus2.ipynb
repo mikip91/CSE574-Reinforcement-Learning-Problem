{
  "nbformat": 4,
  "nbformat_minor": 0,
  "metadata": {
    "colab": {
      "name": "bonus2.ipynb",
      "version": "0.3.2",
      "provenance": [],
      "collapsed_sections": []
    },
    "kernelspec": {
      "name": "python3",
      "display_name": "Python 3"
    },
    "accelerator": "GPU"
  },
  "cells": [
    {
      "metadata": {
        "id": "iGusfVSsSHkZ",
        "colab_type": "code",
        "outputId": "fcba9922-ef90-4203-f226-c3f9b1cd94e4",
        "colab": {
          "base_uri": "https://localhost:8080/",
          "height": 1112
        }
      },
      "cell_type": "code",
      "source": [
        "# These are the dependencies required for creating an environment\n",
        "!apt install cmake libopenmpi-dev zlib1g-dev\n",
        "!pip install stable-baselines==2.2.0\n",
        "!apt-get install python-opengl\n"
      ],
      "execution_count": 2,
      "outputs": [
        {
          "output_type": "stream",
          "text": [
            "Reading package lists... Done\n",
            "Building dependency tree       \n",
            "Reading state information... Done\n",
            "cmake is already the newest version (3.10.2-1ubuntu2).\n",
            "zlib1g-dev is already the newest version (1:1.2.11.dfsg-0ubuntu2).\n",
            "libopenmpi-dev is already the newest version (2.1.1-8).\n",
            "0 upgraded, 0 newly installed, 0 to remove and 8 not upgraded.\n",
            "Requirement already satisfied: stable-baselines==2.2.0 in /usr/local/lib/python3.6/dist-packages (2.2.0)\n",
            "Requirement already satisfied: joblib in /usr/local/lib/python3.6/dist-packages (from stable-baselines==2.2.0) (0.13.0)\n",
            "Requirement already satisfied: seaborn in /usr/local/lib/python3.6/dist-packages (from stable-baselines==2.2.0) (0.7.1)\n",
            "Requirement already satisfied: cloudpickle in /usr/local/lib/python3.6/dist-packages (from stable-baselines==2.2.0) (0.6.1)\n",
            "Requirement already satisfied: click in /usr/local/lib/python3.6/dist-packages (from stable-baselines==2.2.0) (7.0)\n",
            "Requirement already satisfied: numpy in /usr/local/lib/python3.6/dist-packages (from stable-baselines==2.2.0) (1.14.6)\n",
            "Requirement already satisfied: mpi4py in /usr/local/lib/python3.6/dist-packages (from stable-baselines==2.2.0) (3.0.0)\n",
            "Requirement already satisfied: pandas in /usr/local/lib/python3.6/dist-packages (from stable-baselines==2.2.0) (0.22.0)\n",
            "Requirement already satisfied: tensorflow>=1.5.0 in /usr/local/lib/python3.6/dist-packages (from stable-baselines==2.2.0) (1.12.0)\n",
            "Requirement already satisfied: gym[atari,classic_control]>=0.10.9 in /usr/local/lib/python3.6/dist-packages (from stable-baselines==2.2.0) (0.10.9)\n",
            "Requirement already satisfied: tqdm in /usr/local/lib/python3.6/dist-packages (from stable-baselines==2.2.0) (4.28.1)\n",
            "Requirement already satisfied: progressbar2 in /usr/local/lib/python3.6/dist-packages (from stable-baselines==2.2.0) (3.38.0)\n",
            "Requirement already satisfied: opencv-python in /usr/local/lib/python3.6/dist-packages (from stable-baselines==2.2.0) (3.4.4.19)\n",
            "Requirement already satisfied: dill in /usr/local/lib/python3.6/dist-packages (from stable-baselines==2.2.0) (0.2.8.2)\n",
            "Requirement already satisfied: zmq in /usr/local/lib/python3.6/dist-packages (from stable-baselines==2.2.0) (0.0.0)\n",
            "Requirement already satisfied: glob2 in /usr/local/lib/python3.6/dist-packages (from stable-baselines==2.2.0) (0.6)\n",
            "Requirement already satisfied: scipy in /usr/local/lib/python3.6/dist-packages (from stable-baselines==2.2.0) (1.1.0)\n",
            "Requirement already satisfied: matplotlib in /usr/local/lib/python3.6/dist-packages (from stable-baselines==2.2.0) (2.1.2)\n",
            "Requirement already satisfied: python-dateutil>=2 in /usr/local/lib/python3.6/dist-packages (from pandas->stable-baselines==2.2.0) (2.5.3)\n",
            "Requirement already satisfied: pytz>=2011k in /usr/local/lib/python3.6/dist-packages (from pandas->stable-baselines==2.2.0) (2018.7)\n",
            "Requirement already satisfied: keras-preprocessing>=1.0.5 in /usr/local/lib/python3.6/dist-packages (from tensorflow>=1.5.0->stable-baselines==2.2.0) (1.0.5)\n",
            "Requirement already satisfied: six>=1.10.0 in /usr/local/lib/python3.6/dist-packages (from tensorflow>=1.5.0->stable-baselines==2.2.0) (1.11.0)\n",
            "Requirement already satisfied: protobuf>=3.6.1 in /usr/local/lib/python3.6/dist-packages (from tensorflow>=1.5.0->stable-baselines==2.2.0) (3.6.1)\n",
            "Requirement already satisfied: tensorboard<1.13.0,>=1.12.0 in /usr/local/lib/python3.6/dist-packages (from tensorflow>=1.5.0->stable-baselines==2.2.0) (1.12.0)\n",
            "Requirement already satisfied: wheel>=0.26 in /usr/local/lib/python3.6/dist-packages (from tensorflow>=1.5.0->stable-baselines==2.2.0) (0.32.3)\n",
            "Requirement already satisfied: grpcio>=1.8.6 in /usr/local/lib/python3.6/dist-packages (from tensorflow>=1.5.0->stable-baselines==2.2.0) (1.15.0)\n",
            "Requirement already satisfied: absl-py>=0.1.6 in /usr/local/lib/python3.6/dist-packages (from tensorflow>=1.5.0->stable-baselines==2.2.0) (0.6.1)\n",
            "Requirement already satisfied: astor>=0.6.0 in /usr/local/lib/python3.6/dist-packages (from tensorflow>=1.5.0->stable-baselines==2.2.0) (0.7.1)\n",
            "Requirement already satisfied: keras-applications>=1.0.6 in /usr/local/lib/python3.6/dist-packages (from tensorflow>=1.5.0->stable-baselines==2.2.0) (1.0.6)\n",
            "Requirement already satisfied: gast>=0.2.0 in /usr/local/lib/python3.6/dist-packages (from tensorflow>=1.5.0->stable-baselines==2.2.0) (0.2.0)\n",
            "Requirement already satisfied: termcolor>=1.1.0 in /usr/local/lib/python3.6/dist-packages (from tensorflow>=1.5.0->stable-baselines==2.2.0) (1.1.0)\n",
            "Requirement already satisfied: requests>=2.0 in /usr/local/lib/python3.6/dist-packages (from gym[atari,classic_control]>=0.10.9->stable-baselines==2.2.0) (2.18.4)\n",
            "Requirement already satisfied: pyglet>=1.2.0 in /usr/local/lib/python3.6/dist-packages (from gym[atari,classic_control]>=0.10.9->stable-baselines==2.2.0) (1.3.2)\n",
            "Requirement already satisfied: atari-py>=0.1.4; extra == \"atari\" in /usr/local/lib/python3.6/dist-packages (from gym[atari,classic_control]>=0.10.9->stable-baselines==2.2.0) (0.1.7)\n",
            "Requirement already satisfied: Pillow; extra == \"atari\" in /usr/local/lib/python3.6/dist-packages (from gym[atari,classic_control]>=0.10.9->stable-baselines==2.2.0) (4.0.0)\n",
            "Requirement already satisfied: PyOpenGL; extra == \"atari\" in /usr/local/lib/python3.6/dist-packages (from gym[atari,classic_control]>=0.10.9->stable-baselines==2.2.0) (3.1.0)\n",
            "Requirement already satisfied: python-utils>=2.3.0 in /usr/local/lib/python3.6/dist-packages (from progressbar2->stable-baselines==2.2.0) (2.3.0)\n",
            "Requirement already satisfied: pyzmq in /usr/local/lib/python3.6/dist-packages (from zmq->stable-baselines==2.2.0) (17.0.0)\n",
            "Requirement already satisfied: pyparsing!=2.0.4,!=2.1.2,!=2.1.6,>=2.0.1 in /usr/local/lib/python3.6/dist-packages (from matplotlib->stable-baselines==2.2.0) (2.3.0)\n",
            "Requirement already satisfied: cycler>=0.10 in /usr/local/lib/python3.6/dist-packages (from matplotlib->stable-baselines==2.2.0) (0.10.0)\n",
            "Requirement already satisfied: setuptools in /usr/local/lib/python3.6/dist-packages (from protobuf>=3.6.1->tensorflow>=1.5.0->stable-baselines==2.2.0) (40.6.2)\n",
            "Requirement already satisfied: markdown>=2.6.8 in /usr/local/lib/python3.6/dist-packages (from tensorboard<1.13.0,>=1.12.0->tensorflow>=1.5.0->stable-baselines==2.2.0) (3.0.1)\n",
            "Requirement already satisfied: werkzeug>=0.11.10 in /usr/local/lib/python3.6/dist-packages (from tensorboard<1.13.0,>=1.12.0->tensorflow>=1.5.0->stable-baselines==2.2.0) (0.14.1)\n",
            "Requirement already satisfied: h5py in /usr/local/lib/python3.6/dist-packages (from keras-applications>=1.0.6->tensorflow>=1.5.0->stable-baselines==2.2.0) (2.8.0)\n",
            "Requirement already satisfied: urllib3<1.23,>=1.21.1 in /usr/local/lib/python3.6/dist-packages (from requests>=2.0->gym[atari,classic_control]>=0.10.9->stable-baselines==2.2.0) (1.22)\n",
            "Requirement already satisfied: chardet<3.1.0,>=3.0.2 in /usr/local/lib/python3.6/dist-packages (from requests>=2.0->gym[atari,classic_control]>=0.10.9->stable-baselines==2.2.0) (3.0.4)\n",
            "Requirement already satisfied: idna<2.7,>=2.5 in /usr/local/lib/python3.6/dist-packages (from requests>=2.0->gym[atari,classic_control]>=0.10.9->stable-baselines==2.2.0) (2.6)\n",
            "Requirement already satisfied: certifi>=2017.4.17 in /usr/local/lib/python3.6/dist-packages (from requests>=2.0->gym[atari,classic_control]>=0.10.9->stable-baselines==2.2.0) (2018.11.29)\n",
            "Requirement already satisfied: future in /usr/local/lib/python3.6/dist-packages (from pyglet>=1.2.0->gym[atari,classic_control]>=0.10.9->stable-baselines==2.2.0) (0.16.0)\n",
            "Requirement already satisfied: olefile in /usr/local/lib/python3.6/dist-packages (from Pillow; extra == \"atari\"->gym[atari,classic_control]>=0.10.9->stable-baselines==2.2.0) (0.46)\n",
            "Reading package lists... Done\n",
            "Building dependency tree       \n",
            "Reading state information... Done\n",
            "python-opengl is already the newest version (3.1.0+dfsg-1).\n",
            "0 upgraded, 0 newly installed, 0 to remove and 8 not upgraded.\n"
          ],
          "name": "stdout"
        }
      ]
    },
    {
      "metadata": {
        "id": "wmcJgpr0SbWl",
        "colab_type": "code",
        "outputId": "9f8c2392-78c1-4c7b-87cf-dda1f2d52725",
        "colab": {
          "base_uri": "https://localhost:8080/",
          "height": 89
        }
      },
      "cell_type": "code",
      "source": [
        "# Create and wrap the environment\n",
        "from stable_baselines.common.atari_wrappers import make_atari\n",
        "from stable_baselines.deepq.policies import MlpPolicy, CnnPolicy\n",
        "from stable_baselines import DQN\n",
        "\n",
        "# Make ChopperCommand Environment\n",
        "env = make_atari('ChopperCommandNoFrameskip-v4')\n",
        "# using the Deep-Q Learning with CNN Policy \n",
        "model = DQN(CnnPolicy, env, verbose=1)\n",
        "# Train the agent\n",
        "model.learn(total_timesteps=10000)"
      ],
      "execution_count": 3,
      "outputs": [
        {
          "output_type": "stream",
          "text": [
            "/usr/local/lib/python3.6/dist-packages/gym/envs/registration.py:14: PkgResourcesDeprecationWarning: Parameters to load are deprecated.  Call .resolve and .require separately.\n",
            "  result = entry_point.load(False)\n"
          ],
          "name": "stderr"
        },
        {
          "output_type": "execute_result",
          "data": {
            "text/plain": [
              "<stable_baselines.deepq.dqn.DQN at 0x7ff31b6c4630>"
            ]
          },
          "metadata": {
            "tags": []
          },
          "execution_count": 3
        }
      ]
    },
    {
      "metadata": {
        "id": "w5ToiSdodJlX",
        "colab_type": "text"
      },
      "cell_type": "markdown",
      "source": [
        "# Testing on Chopper Command Environment"
      ]
    },
    {
      "metadata": {
        "id": "ozppZh6USoA-",
        "colab_type": "code",
        "outputId": "56b93f7d-416a-471e-bbda-65fbacf9651a",
        "colab": {
          "base_uri": "https://localhost:8080/",
          "height": 139
        }
      },
      "cell_type": "code",
      "source": [
        "R=0\n",
        "frames=[]\n",
        "plot_rewards=[]\n",
        "obs = env.reset() #initializing STATE\n",
        "for episode in range(0,2000):\n",
        "    action, _states = model.predict(obs) #feeding state to model to predict next state and action\n",
        "    obs, rewards, dones, info = env.step(action) #getting game data\n",
        "    R+=rewards #summing rewards for episode\n",
        "    if (dones): # episode over\n",
        "      print('Last Episode Reward: {}'.format(R))\n",
        "      R= 0\n",
        "      plot_rewards.append(R)\n",
        "      obs=env.reset() #starting game again\n",
        "    fig=env.render(mode = 'rgb_array') # rendering env\n",
        "    frames.append(fig)\n",
        "print(plot_rewards)"
      ],
      "execution_count": 9,
      "outputs": [
        {
          "output_type": "stream",
          "text": [
            "Last Episode Reward: 500.0\n",
            "Last Episode Reward: 1000.0\n",
            "Last Episode Reward: 1500.0\n",
            "Last Episode Reward: 2000.0\n",
            "Last Episode Reward: 2600.0\n",
            "Last Episode Reward: 3100.0\n",
            "[500.0, 1000.0, 1500.0, 2000.0, 2600.0, 3100.0]\n"
          ],
          "name": "stdout"
        }
      ]
    },
    {
      "metadata": {
        "id": "6OaVzFmZSxVy",
        "colab_type": "code",
        "outputId": "21873ca9-ec1e-4664-ab4e-ecc22904c1ed",
        "colab": {
          "base_uri": "https://localhost:8080/",
          "height": 121
        }
      },
      "cell_type": "code",
      "source": [
        "\"\"\"\n",
        "\n",
        "To create animation, you need to install ffmpeg\n",
        "These lines will install it in Google Colab\n",
        "If you're running this notebook locally, you'll need to install\n",
        "ffmpeg on your computer: \n",
        "https://github.com/adaptlearning/adapt_authoring/wiki/Installing-FFmpeg\n",
        "\n",
        "\"\"\"\n",
        "!apt install ffmpeg\n",
        "!which ffmpeg\n",
        "import matplotlib\n",
        "#matplotlib.use(\"Agg\")\n",
        "import matplotlib.pyplot as plt\n",
        "from matplotlib.image import imread\n",
        "from matplotlib import rc, animation\n",
        "from IPython import display\n",
        "from IPython.display import HTML\n",
        "%matplotlib inline\n",
        "plt.rcParams['animation.ffmpeg_path'] = u'/usr/bin/ffmpeg'"
      ],
      "execution_count": 10,
      "outputs": [
        {
          "output_type": "stream",
          "text": [
            "Reading package lists... Done\n",
            "Building dependency tree       \n",
            "Reading state information... Done\n",
            "ffmpeg is already the newest version (7:3.4.4-0ubuntu0.18.04.1).\n",
            "0 upgraded, 0 newly installed, 0 to remove and 8 not upgraded.\n",
            "/usr/bin/ffmpeg\n"
          ],
          "name": "stdout"
        }
      ]
    },
    {
      "metadata": {
        "id": "sTo9R1YVS4BV",
        "colab_type": "code",
        "outputId": "5c075060-c854-4196-8ac6-622ee7f1221e",
        "colab": {
          "base_uri": "https://localhost:8080/",
          "height": 269
        }
      },
      "cell_type": "code",
      "source": [
        "# Saving Animation\n",
        "fig, ax = plt.subplots()\n",
        "plt.axis('off')\n",
        "l = ax.imshow(frames[0])\n",
        "\n",
        "def animate(i):\n",
        "    l.set_data(frames[i])\n",
        "\n",
        "Writer = animation.writers['ffmpeg']\n",
        "writer = Writer(fps=12, metadata=dict(artist='Me'))\n",
        "ani = animation.FuncAnimation(fig, animate, frames=len(frames))\n",
        "\n",
        "ani.save('chopper.mp4', writer=writer, dpi=220)"
      ],
      "execution_count": 11,
      "outputs": [
        {
          "output_type": "display_data",
          "data": {
            "image/png": "[encoded data removed]",
            "text/plain": [
              "<matplotlib.figure.Figure at 0x7ff2a9a539b0>"
            ]
          },
          "metadata": {
            "tags": []
          }
        }
      ]
    },
    {
      "metadata": {
        "id": "jamYcMhtc3W3",
        "colab_type": "code",
        "colab": {
          "base_uri": "https://localhost:8080/",
          "height": 463
        },
        "outputId": "baca3289-be4a-4330-839c-f03824d9ea82"
      },
      "cell_type": "code",
      "source": [
        "# Plotting rewards graph\n",
        "import numpy as np\n",
        "plt.figure(figsize=(8, 6), dpi=80)\n",
        "plt.title(\"Episode Reward\")\n",
        "plt.xlabel(\"Episode\")\n",
        "plt.ylabel(\"Episode Reward\")\n",
        "plt.plot(plot_rewards)"
      ],
      "execution_count": 12,
      "outputs": [
        {
          "output_type": "execute_result",
          "data": {
            "text/plain": [
              "[<matplotlib.lines.Line2D at 0x7ff2a9990240>]"
            ]
          },
          "metadata": {
            "tags": []
          },
          "execution_count": 12
        },
        {
          "output_type": "display_data",
          "data": {
            "image/png": "[encoded data removed]",
            "text/plain": [
              "<matplotlib.figure.Figure at 0x7ff31b6c4240>"
            ]
          },
          "metadata": {
            "tags": []
          }
        }
      ]
    },
    {
      "metadata": {
        "id": "_S8n5rrAS_DA",
        "colab_type": "code",
        "colab": {}
      },
      "cell_type": "code",
      "source": [
        "try:\n",
        "  from google.colab import files\n",
        "except:\n",
        "  print(\"Could not import Google Colab.\")\n",
        "  \n",
        "files.download('chopper.mp4')"
      ],
      "execution_count": 0,
      "outputs": []
    }
  ]
}